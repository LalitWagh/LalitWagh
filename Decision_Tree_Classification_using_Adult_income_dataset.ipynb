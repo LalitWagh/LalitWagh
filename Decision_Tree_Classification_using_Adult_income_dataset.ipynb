{
  "nbformat": 4,
  "nbformat_minor": 0,
  "metadata": {
    "colab": {
      "name": "Decision Tree Classification using Adult income dataset.ipynb",
      "provenance": [],
      "collapsed_sections": [],
      "mount_file_id": "1gMeOu29j6Y7Sh1tYa0RdtOKbzZYQqyGt",
      "authorship_tag": "ABX9TyOdku67B9kVAZrWUGnVUP5G",
      "include_colab_link": true
    },
    "kernelspec": {
      "name": "python3",
      "display_name": "Python 3"
    },
    "language_info": {
      "name": "python"
    }
  },
  "cells": [
    {
      "cell_type": "markdown",
      "metadata": {
        "id": "view-in-github",
        "colab_type": "text"
      },
      "source": [
        "<a href=\"https://colab.research.google.com/github/LalitWagh/LalitWagh/blob/main/Decision_Tree_Classification_using_Adult_income_dataset.ipynb\" target=\"_parent\"><img src=\"https://colab.research.google.com/assets/colab-badge.svg\" alt=\"Open In Colab\"/></a>"
      ]
    },
    {
      "cell_type": "code",
      "metadata": {
        "id": "D_a2ye_pmwzc"
      },
      "source": [
        "# Importing Libraries\n",
        "import numpy as np\n",
        "import pandas as pd\n",
        "import seaborn as sb\n",
        "import matplotlib.pyplot as plt\n",
        "%matplotlib inline"
      ],
      "execution_count": 1,
      "outputs": []
    },
    {
      "cell_type": "code",
      "metadata": {
        "id": "yuLPSXK7nBnj"
      },
      "source": [
        "# Reading dataset & assigning variable\n",
        "dataset = pd.read_csv('/content/drive/MyDrive/adult.csv')"
      ],
      "execution_count": 2,
      "outputs": []
    },
    {
      "cell_type": "code",
      "metadata": {
        "id": "Cfz2eZ54t5aw"
      },
      "source": [
        "dataset.columns = ['age','workclass','fnlwgt','education','education_num','marital_status','occupation','relationship','race','sex','capital_gain','capital_loss','hours_per_week','native_country','class']"
      ],
      "execution_count": 3,
      "outputs": []
    },
    {
      "cell_type": "code",
      "metadata": {
        "colab": {
          "base_uri": "https://localhost:8080/",
          "height": 275
        },
        "id": "OVmpfBkPnUKL",
        "outputId": "195bd656-b97c-4693-81e7-aa19ae3f3669"
      },
      "source": [
        "# Viewing First five rows of dataset\n",
        "dataset.head()"
      ],
      "execution_count": 4,
      "outputs": [
        {
          "output_type": "execute_result",
          "data": {
            "text/html": [
              "<div>\n",
              "<style scoped>\n",
              "    .dataframe tbody tr th:only-of-type {\n",
              "        vertical-align: middle;\n",
              "    }\n",
              "\n",
              "    .dataframe tbody tr th {\n",
              "        vertical-align: top;\n",
              "    }\n",
              "\n",
              "    .dataframe thead th {\n",
              "        text-align: right;\n",
              "    }\n",
              "</style>\n",
              "<table border=\"1\" class=\"dataframe\">\n",
              "  <thead>\n",
              "    <tr style=\"text-align: right;\">\n",
              "      <th></th>\n",
              "      <th>age</th>\n",
              "      <th>workclass</th>\n",
              "      <th>fnlwgt</th>\n",
              "      <th>education</th>\n",
              "      <th>education_num</th>\n",
              "      <th>marital_status</th>\n",
              "      <th>occupation</th>\n",
              "      <th>relationship</th>\n",
              "      <th>race</th>\n",
              "      <th>sex</th>\n",
              "      <th>capital_gain</th>\n",
              "      <th>capital_loss</th>\n",
              "      <th>hours_per_week</th>\n",
              "      <th>native_country</th>\n",
              "      <th>class</th>\n",
              "    </tr>\n",
              "  </thead>\n",
              "  <tbody>\n",
              "    <tr>\n",
              "      <th>0</th>\n",
              "      <td>50.0</td>\n",
              "      <td>Self-emp-not-inc</td>\n",
              "      <td>83311.0</td>\n",
              "      <td>Bachelors</td>\n",
              "      <td>13.0</td>\n",
              "      <td>Married-civ-spouse</td>\n",
              "      <td>Exec-managerial</td>\n",
              "      <td>Husband</td>\n",
              "      <td>White</td>\n",
              "      <td>Male</td>\n",
              "      <td>0.0</td>\n",
              "      <td>0.0</td>\n",
              "      <td>13.0</td>\n",
              "      <td>United-States</td>\n",
              "      <td>&lt;=50K</td>\n",
              "    </tr>\n",
              "    <tr>\n",
              "      <th>1</th>\n",
              "      <td>38.0</td>\n",
              "      <td>Private</td>\n",
              "      <td>215646.0</td>\n",
              "      <td>HS-grad</td>\n",
              "      <td>9.0</td>\n",
              "      <td>Divorced</td>\n",
              "      <td>Handlers-cleaners</td>\n",
              "      <td>Not-in-family</td>\n",
              "      <td>White</td>\n",
              "      <td>Male</td>\n",
              "      <td>0.0</td>\n",
              "      <td>0.0</td>\n",
              "      <td>40.0</td>\n",
              "      <td>United-States</td>\n",
              "      <td>&lt;=50K</td>\n",
              "    </tr>\n",
              "    <tr>\n",
              "      <th>2</th>\n",
              "      <td>53.0</td>\n",
              "      <td>*</td>\n",
              "      <td>234721.0</td>\n",
              "      <td>11th</td>\n",
              "      <td>7.0</td>\n",
              "      <td>Married-civ-spouse</td>\n",
              "      <td>Handlers-cleaners</td>\n",
              "      <td>Husband</td>\n",
              "      <td>Black</td>\n",
              "      <td>Male</td>\n",
              "      <td>0.0</td>\n",
              "      <td>0.0</td>\n",
              "      <td>40.0</td>\n",
              "      <td>United-States</td>\n",
              "      <td>&lt;=50K</td>\n",
              "    </tr>\n",
              "    <tr>\n",
              "      <th>3</th>\n",
              "      <td>28.0</td>\n",
              "      <td>Private</td>\n",
              "      <td>338409.0</td>\n",
              "      <td>Bachelors</td>\n",
              "      <td>13.0</td>\n",
              "      <td>*</td>\n",
              "      <td>Prof-specialty</td>\n",
              "      <td>Wife</td>\n",
              "      <td>Black</td>\n",
              "      <td>Female</td>\n",
              "      <td>0.0</td>\n",
              "      <td>0.0</td>\n",
              "      <td>40.0</td>\n",
              "      <td>Cuba</td>\n",
              "      <td>&lt;=50K</td>\n",
              "    </tr>\n",
              "    <tr>\n",
              "      <th>4</th>\n",
              "      <td>37.0</td>\n",
              "      <td>Private</td>\n",
              "      <td>284582.0</td>\n",
              "      <td>Masters</td>\n",
              "      <td>14.0</td>\n",
              "      <td>Married-civ-spouse</td>\n",
              "      <td>Exec-managerial</td>\n",
              "      <td>Wife</td>\n",
              "      <td>White</td>\n",
              "      <td>NaN</td>\n",
              "      <td>0.0</td>\n",
              "      <td>0.0</td>\n",
              "      <td>40.0</td>\n",
              "      <td>United-States</td>\n",
              "      <td>&lt;=50K</td>\n",
              "    </tr>\n",
              "  </tbody>\n",
              "</table>\n",
              "</div>"
            ],
            "text/plain": [
              "    age         workclass    fnlwgt  ... hours_per_week  native_country  class\n",
              "0  50.0  Self-emp-not-inc   83311.0  ...           13.0   United-States  <=50K\n",
              "1  38.0           Private  215646.0  ...           40.0   United-States  <=50K\n",
              "2  53.0                 *  234721.0  ...           40.0   United-States  <=50K\n",
              "3  28.0           Private  338409.0  ...           40.0            Cuba  <=50K\n",
              "4  37.0           Private  284582.0  ...           40.0   United-States  <=50K\n",
              "\n",
              "[5 rows x 15 columns]"
            ]
          },
          "metadata": {},
          "execution_count": 4
        }
      ]
    },
    {
      "cell_type": "code",
      "metadata": {
        "colab": {
          "base_uri": "https://localhost:8080/"
        },
        "id": "XX8RcOozoFd9",
        "outputId": "c74235da-5046-4f8a-81d3-df3e23f93996"
      },
      "source": [
        "# Searching for Any special character values in dataset\n",
        "dataset.isin([\"?\",\"*\",\"@\",\"#\",\"%\",\"&\"]).sum()"
      ],
      "execution_count": 5,
      "outputs": [
        {
          "output_type": "execute_result",
          "data": {
            "text/plain": [
              "age                  0\n",
              "workclass         1838\n",
              "fnlwgt               0\n",
              "education            0\n",
              "education_num        0\n",
              "marital_status       2\n",
              "occupation        1844\n",
              "relationship         0\n",
              "race                 0\n",
              "sex                  2\n",
              "capital_gain         0\n",
              "capital_loss         0\n",
              "hours_per_week       0\n",
              "native_country     584\n",
              "class                0\n",
              "dtype: int64"
            ]
          },
          "metadata": {},
          "execution_count": 5
        }
      ]
    },
    {
      "cell_type": "code",
      "metadata": {
        "id": "vqyCSGd9oPed"
      },
      "source": [
        "# Replacing special characters as Nan values\n",
        "dataset = dataset.replace(to_replace=[\"?\",\"*\"], value=np.nan)"
      ],
      "execution_count": 6,
      "outputs": []
    },
    {
      "cell_type": "code",
      "metadata": {
        "id": "NiRgccZ01ave"
      },
      "source": [
        "# Deleting Irrelavant columns\n",
        "dataset.drop(['education','fnlwgt'], axis = 1, inplace = True)"
      ],
      "execution_count": 7,
      "outputs": []
    },
    {
      "cell_type": "markdown",
      "metadata": {
        "id": "bFE0H62qpqYH"
      },
      "source": [
        "# **Handling missing values in the dataset**"
      ]
    },
    {
      "cell_type": "code",
      "metadata": {
        "id": "yVqKXLyloYZR"
      },
      "source": [
        "# Saving categorical value and numerical values in different variable \n",
        "cat_cols = ['workclass','marital_status','occupation','relationship','race','sex','native_country', 'class']\n",
        "num_cols =['age','education_num','capital_gain','capital_loss','hours_per_week']"
      ],
      "execution_count": 8,
      "outputs": []
    },
    {
      "cell_type": "code",
      "metadata": {
        "id": "Q_lYCCW8opCJ"
      },
      "source": [
        "# Filling missing(Nan) values with mode of categorical columns\n",
        "for column in cat_cols:\n",
        "    dataset[column].fillna(dataset[column].mode()[0], inplace=True)"
      ],
      "execution_count": 9,
      "outputs": []
    },
    {
      "cell_type": "code",
      "metadata": {
        "id": "tsv4DCgnosu1"
      },
      "source": [
        "# Filling Missing(Nan) values with mean of numerical columns\n",
        "for col in num_cols:\n",
        "    mean = dataset[col].mean()\n",
        "    dataset[col].fillna(value=mean, inplace=True)"
      ],
      "execution_count": 10,
      "outputs": []
    },
    {
      "cell_type": "code",
      "metadata": {
        "colab": {
          "base_uri": "https://localhost:8080/"
        },
        "id": "cjCLhgXgw4mu",
        "outputId": "570c769a-e3a8-47a1-d959-fa9b611611d1"
      },
      "source": [
        "dataset.isnull().sum() #Checking for null values"
      ],
      "execution_count": 11,
      "outputs": [
        {
          "output_type": "execute_result",
          "data": {
            "text/plain": [
              "age               0\n",
              "workclass         0\n",
              "education_num     0\n",
              "marital_status    0\n",
              "occupation        0\n",
              "relationship      0\n",
              "race              0\n",
              "sex               0\n",
              "capital_gain      0\n",
              "capital_loss      0\n",
              "hours_per_week    0\n",
              "native_country    0\n",
              "class             0\n",
              "dtype: int64"
            ]
          },
          "metadata": {},
          "execution_count": 11
        }
      ]
    },
    {
      "cell_type": "code",
      "metadata": {
        "colab": {
          "base_uri": "https://localhost:8080/",
          "height": 282
        },
        "id": "pzBsl15uMSIT",
        "outputId": "11829092-6525-48d4-fb63-550b68a4bb20"
      },
      "source": [
        "plt.hist(dataset['class'])\n",
        "plt.show"
      ],
      "execution_count": 12,
      "outputs": [
        {
          "output_type": "execute_result",
          "data": {
            "text/plain": [
              "<function matplotlib.pyplot.show>"
            ]
          },
          "metadata": {},
          "execution_count": 12
        },
        {
          "output_type": "display_data",
          "data": {
            "image/png": "[encoded data removed]",
            "text/plain": [
              "<Figure size 432x288 with 1 Axes>"
            ]
          },
          "metadata": {
            "needs_background": "light"
          }
        }
      ]
    },
    {
      "cell_type": "code",
      "metadata": {
        "colab": {
          "base_uri": "https://localhost:8080/",
          "height": 1000
        },
        "id": "C-bpDl-MMo_h",
        "outputId": "ef2c85d8-c301-473f-c41d-7bbdb633eb86"
      },
      "source": [
        "for i in dataset[cat_cols]:\n",
        "    plt.hist(dataset[i])\n",
        "    plt.title(i)\n",
        "    plt.show()"
      ],
      "execution_count": 13,
      "outputs": [
        {
          "output_type": "display_data",
          "data": {
            "image/png": "[encoded data removed]",
            "text/plain": [
              "<Figure size 432x288 with 1 Axes>"
            ]
          },
          "metadata": {
            "needs_background": "light"
          }
        },
        {
          "output_type": "display_data",
          "data": {
            "image/png": "[encoded data removed]",
            "text/plain": [
              "<Figure size 432x288 with 1 Axes>"
            ]
          },
          "metadata": {
            "needs_background": "light"
          }
        },
        {
          "output_type": "display_data",
          "data": {
            "image/png": "[encoded data removed]",
            "text/plain": [
              "<Figure size 432x288 with 1 Axes>"
            ]
          },
          "metadata": {
            "needs_background": "light"
          }
        },
        {
          "output_type": "display_data",
          "data": {
            "image/png": "[encoded data removed]",
            "text/plain": [
              "<Figure size 432x288 with 1 Axes>"
            ]
          },
          "metadata": {
            "needs_background": "light"
          }
        },
        {
          "output_type": "display_data",
          "data": {
            "image/png": "[encoded data removed]",
            "text/plain": [
              "<Figure size 432x288 with 1 Axes>"
            ]
          },
          "metadata": {
            "needs_background": "light"
          }
        },
        {
          "output_type": "display_data",
          "data": {
            "image/png": "[encoded data removed]",
            "text/plain": [
              "<Figure size 432x288 with 1 Axes>"
            ]
          },
          "metadata": {
            "needs_background": "light"
          }
        },
        {
          "output_type": "display_data",
          "data": {
            "image/png": "[encoded data removed]",
            "text/plain": [
              "<Figure size 432x288 with 1 Axes>"
            ]
          },
          "metadata": {
            "needs_background": "light"
          }
        },
        {
          "output_type": "display_data",
          "data": {
            "image/png": "[encoded data removed]",
            "text/plain": [
              "<Figure size 432x288 with 1 Axes>"
            ]
          },
          "metadata": {
            "needs_background": "light"
          }
        }
      ]
    },
    {
      "cell_type": "code",
      "metadata": {
        "colab": {
          "base_uri": "https://localhost:8080/",
          "height": 1000
        },
        "id": "HVwv864-1Rh9",
        "outputId": "77b5bfaf-5b14-4888-aaf6-3b3c0894337d"
      },
      "source": [
        "for i in dataset[num_cols]:\n",
        "    plt.hist(dataset[i])\n",
        "    plt.title(i)\n",
        "    plt.show()"
      ],
      "execution_count": null,
      "outputs": [
        {
          "output_type": "display_data",
          "data": {
            "image/png": "[encoded data removed]",
            "text/plain": [
              "<Figure size 432x288 with 1 Axes>"
            ]
          },
          "metadata": {
            "needs_background": "light"
          }
        },
        {
          "output_type": "display_data",
          "data": {
            "image/png": "[encoded data removed]",
            "text/plain": [
              "<Figure size 432x288 with 1 Axes>"
            ]
          },
          "metadata": {
            "needs_background": "light"
          }
        },
        {
          "output_type": "display_data",
          "data": {
            "image/png": "[encoded data removed]",
            "text/plain": [
              "<Figure size 432x288 with 1 Axes>"
            ]
          },
          "metadata": {
            "needs_background": "light"
          }
        },
        {
          "output_type": "display_data",
          "data": {
            "image/png": "[encoded data removed]",
            "text/plain": [
              "<Figure size 432x288 with 1 Axes>"
            ]
          },
          "metadata": {
            "needs_background": "light"
          }
        },
        {
          "output_type": "display_data",
          "data": {
            "image/png": "[encoded data removed]",
            "text/plain": [
              "<Figure size 432x288 with 1 Axes>"
            ]
          },
          "metadata": {
            "needs_background": "light"
          }
        }
      ]
    },
    {
      "cell_type": "code",
      "metadata": {
        "colab": {
          "base_uri": "https://localhost:8080/",
          "height": 358
        },
        "id": "SKlIcDv81yov",
        "outputId": "309175f8-5ba9-43d1-c3aa-e1db762bb4f4"
      },
      "source": [
        "dataset[num_cols].corr()\n",
        "\n",
        "sb.heatmap(dataset.corr(), linewidths=0.1, cmap=\"YlGnBu\")"
      ],
      "execution_count": null,
      "outputs": [
        {
          "output_type": "execute_result",
          "data": {
            "text/plain": [
              "<matplotlib.axes._subplots.AxesSubplot at 0x7fe2426eae90>"
            ]
          },
          "metadata": {},
          "execution_count": 120
        },
        {
          "output_type": "display_data",
          "data": {
            "image/png": "[encoded data removed]",
            "text/plain": [
              "<Figure size 432x288 with 2 Axes>"
            ]
          },
          "metadata": {
            "needs_background": "light"
          }
        }
      ]
    },
    {
      "cell_type": "markdown",
      "metadata": {
        "id": "ZZfJs_ttpbMj"
      },
      "source": [
        "# Label Encoding\n",
        "**Encoding categorical data to numerical format**"
      ]
    },
    {
      "cell_type": "code",
      "metadata": {
        "id": "kW423hU5pUo4"
      },
      "source": [
        "# Import label encoder\n",
        "from sklearn import preprocessing\n",
        " \n",
        "# label_encoder object knows how to understand word labels.\n",
        "label_encoder = preprocessing.LabelEncoder()\n",
        " \n",
        "# Encoding labels in categorical columns.\n",
        "dataset['class']= label_encoder.fit_transform(dataset['class'])\n",
        "dataset['workclass']= label_encoder.fit_transform(dataset['workclass'])\n",
        "dataset['marital_status']= label_encoder.fit_transform(dataset['marital_status'])\n",
        "dataset['occupation']= label_encoder.fit_transform(dataset['occupation'])\n",
        "dataset['race']= label_encoder.fit_transform(dataset['race'])\n",
        "dataset['relationship']= label_encoder.fit_transform(dataset['relationship'])"
      ],
      "execution_count": null,
      "outputs": []
    },
    {
      "cell_type": "code",
      "metadata": {
        "colab": {
          "base_uri": "https://localhost:8080/",
          "height": 206
        },
        "id": "0I8paKjyp0Fm",
        "outputId": "59427a79-a64a-4a6f-95cd-a0cc5e7d1d36"
      },
      "source": [
        "dataset.head() # First five rows of dataset"
      ],
      "execution_count": null,
      "outputs": [
        {
          "output_type": "execute_result",
          "data": {
            "text/html": [
              "<div>\n",
              "<style scoped>\n",
              "    .dataframe tbody tr th:only-of-type {\n",
              "        vertical-align: middle;\n",
              "    }\n",
              "\n",
              "    .dataframe tbody tr th {\n",
              "        vertical-align: top;\n",
              "    }\n",
              "\n",
              "    .dataframe thead th {\n",
              "        text-align: right;\n",
              "    }\n",
              "</style>\n",
              "<table border=\"1\" class=\"dataframe\">\n",
              "  <thead>\n",
              "    <tr style=\"text-align: right;\">\n",
              "      <th></th>\n",
              "      <th>age</th>\n",
              "      <th>workclass</th>\n",
              "      <th>education_num</th>\n",
              "      <th>marital_status</th>\n",
              "      <th>occupation</th>\n",
              "      <th>relationship</th>\n",
              "      <th>race</th>\n",
              "      <th>sex</th>\n",
              "      <th>capital_gain</th>\n",
              "      <th>capital_loss</th>\n",
              "      <th>hours_per_week</th>\n",
              "      <th>native_country</th>\n",
              "      <th>class</th>\n",
              "    </tr>\n",
              "  </thead>\n",
              "  <tbody>\n",
              "    <tr>\n",
              "      <th>0</th>\n",
              "      <td>50.0</td>\n",
              "      <td>5</td>\n",
              "      <td>13.0</td>\n",
              "      <td>2</td>\n",
              "      <td>3</td>\n",
              "      <td>0</td>\n",
              "      <td>4</td>\n",
              "      <td>Male</td>\n",
              "      <td>0.0</td>\n",
              "      <td>0.0</td>\n",
              "      <td>13.0</td>\n",
              "      <td>United-States</td>\n",
              "      <td>0</td>\n",
              "    </tr>\n",
              "    <tr>\n",
              "      <th>1</th>\n",
              "      <td>38.0</td>\n",
              "      <td>3</td>\n",
              "      <td>9.0</td>\n",
              "      <td>0</td>\n",
              "      <td>5</td>\n",
              "      <td>1</td>\n",
              "      <td>4</td>\n",
              "      <td>Male</td>\n",
              "      <td>0.0</td>\n",
              "      <td>0.0</td>\n",
              "      <td>40.0</td>\n",
              "      <td>United-States</td>\n",
              "      <td>0</td>\n",
              "    </tr>\n",
              "    <tr>\n",
              "      <th>2</th>\n",
              "      <td>53.0</td>\n",
              "      <td>3</td>\n",
              "      <td>7.0</td>\n",
              "      <td>2</td>\n",
              "      <td>5</td>\n",
              "      <td>0</td>\n",
              "      <td>2</td>\n",
              "      <td>Male</td>\n",
              "      <td>0.0</td>\n",
              "      <td>0.0</td>\n",
              "      <td>40.0</td>\n",
              "      <td>United-States</td>\n",
              "      <td>0</td>\n",
              "    </tr>\n",
              "    <tr>\n",
              "      <th>3</th>\n",
              "      <td>28.0</td>\n",
              "      <td>3</td>\n",
              "      <td>13.0</td>\n",
              "      <td>2</td>\n",
              "      <td>9</td>\n",
              "      <td>5</td>\n",
              "      <td>2</td>\n",
              "      <td>Female</td>\n",
              "      <td>0.0</td>\n",
              "      <td>0.0</td>\n",
              "      <td>40.0</td>\n",
              "      <td>Cuba</td>\n",
              "      <td>0</td>\n",
              "    </tr>\n",
              "    <tr>\n",
              "      <th>4</th>\n",
              "      <td>37.0</td>\n",
              "      <td>3</td>\n",
              "      <td>14.0</td>\n",
              "      <td>2</td>\n",
              "      <td>3</td>\n",
              "      <td>5</td>\n",
              "      <td>4</td>\n",
              "      <td>Male</td>\n",
              "      <td>0.0</td>\n",
              "      <td>0.0</td>\n",
              "      <td>40.0</td>\n",
              "      <td>United-States</td>\n",
              "      <td>0</td>\n",
              "    </tr>\n",
              "  </tbody>\n",
              "</table>\n",
              "</div>"
            ],
            "text/plain": [
              "    age  workclass  education_num  ...  hours_per_week  native_country  class\n",
              "0  50.0          5           13.0  ...            13.0   United-States      0\n",
              "1  38.0          3            9.0  ...            40.0   United-States      0\n",
              "2  53.0          3            7.0  ...            40.0   United-States      0\n",
              "3  28.0          3           13.0  ...            40.0            Cuba      0\n",
              "4  37.0          3           14.0  ...            40.0   United-States      0\n",
              "\n",
              "[5 rows x 13 columns]"
            ]
          },
          "metadata": {},
          "execution_count": 122
        }
      ]
    },
    {
      "cell_type": "markdown",
      "metadata": {
        "id": "InTxrWkgqGb3"
      },
      "source": [
        "# One hot encoding\n",
        "Encoding categorical data into numerical format"
      ]
    },
    {
      "cell_type": "code",
      "metadata": {
        "colab": {
          "base_uri": "https://localhost:8080/"
        },
        "id": "ZBAknccIp4YZ",
        "outputId": "ba14c1e7-f79b-4bf4-e348-5eca670616a1"
      },
      "source": [
        "dataset['native_country'].value_counts() #Counting different values in column native_country"
      ],
      "execution_count": null,
      "outputs": [
        {
          "output_type": "execute_result",
          "data": {
            "text/plain": [
              "United-States                 29754\n",
              "Mexico                          643\n",
              "Philippines                     198\n",
              "Germany                         137\n",
              "Canada                          121\n",
              "Puerto-Rico                     114\n",
              "El-Salvador                     106\n",
              "India                            99\n",
              "Cuba                             95\n",
              "England                          90\n",
              "Jamaica                          81\n",
              "South                            80\n",
              "China                            75\n",
              "Italy                            73\n",
              "Dominican-Republic               70\n",
              "Vietnam                          66\n",
              "Guatemala                        64\n",
              "Japan                            62\n",
              "Poland                           60\n",
              "Columbia                         59\n",
              "Taiwan                           51\n",
              "Haiti                            44\n",
              "Iran                             43\n",
              "Portugal                         37\n",
              "Nicaragua                        34\n",
              "Peru                             31\n",
              "France                           29\n",
              "Greece                           29\n",
              "Ecuador                          28\n",
              "Ireland                          24\n",
              "Hong                             20\n",
              "Cambodia                         19\n",
              "Trinadad&Tobago                  19\n",
              "Thailand                         18\n",
              "Laos                             18\n",
              "Yugoslavia                       16\n",
              "Outlying-US(Guam-USVI-etc)       14\n",
              "Hungary                          13\n",
              "Honduras                         13\n",
              "Scotland                         12\n",
              "Holand-Netherlands                1\n",
              "Name: native_country, dtype: int64"
            ]
          },
          "metadata": {},
          "execution_count": 123
        }
      ]
    },
    {
      "cell_type": "code",
      "metadata": {
        "colab": {
          "base_uri": "https://localhost:8080/"
        },
        "id": "kpGGK1cyqS1k",
        "outputId": "4f735ab4-a78d-4f59-ab12-967da324139b"
      },
      "source": [
        "dataset['sex'].value_counts() # Counting different values in column sex"
      ],
      "execution_count": null,
      "outputs": [
        {
          "output_type": "execute_result",
          "data": {
            "text/plain": [
              "Male      21792\n",
              "Female    10768\n",
              "Name: sex, dtype: int64"
            ]
          },
          "metadata": {},
          "execution_count": 124
        }
      ]
    },
    {
      "cell_type": "code",
      "metadata": {
        "id": "NRICwiWsqVDj"
      },
      "source": [
        "one_hot_encoded_data = pd.get_dummies(dataset, columns = ['sex','native_country'], drop_first=True) # One hot encoding for both columns"
      ],
      "execution_count": null,
      "outputs": []
    },
    {
      "cell_type": "code",
      "metadata": {
        "colab": {
          "base_uri": "https://localhost:8080/",
          "height": 243
        },
        "id": "n6c5MaXCqaEc",
        "outputId": "09c00eb1-b29d-4f7d-9fe7-0b3c2dfc84fc"
      },
      "source": [
        "one_hot_encoded_data.head() # Showing first five rows"
      ],
      "execution_count": null,
      "outputs": [
        {
          "output_type": "execute_result",
          "data": {
            "text/html": [
              "<div>\n",
              "<style scoped>\n",
              "    .dataframe tbody tr th:only-of-type {\n",
              "        vertical-align: middle;\n",
              "    }\n",
              "\n",
              "    .dataframe tbody tr th {\n",
              "        vertical-align: top;\n",
              "    }\n",
              "\n",
              "    .dataframe thead th {\n",
              "        text-align: right;\n",
              "    }\n",
              "</style>\n",
              "<table border=\"1\" class=\"dataframe\">\n",
              "  <thead>\n",
              "    <tr style=\"text-align: right;\">\n",
              "      <th></th>\n",
              "      <th>age</th>\n",
              "      <th>workclass</th>\n",
              "      <th>education_num</th>\n",
              "      <th>marital_status</th>\n",
              "      <th>occupation</th>\n",
              "      <th>relationship</th>\n",
              "      <th>race</th>\n",
              "      <th>capital_gain</th>\n",
              "      <th>capital_loss</th>\n",
              "      <th>hours_per_week</th>\n",
              "      <th>class</th>\n",
              "      <th>sex_Male</th>\n",
              "      <th>native_country_Canada</th>\n",
              "      <th>native_country_China</th>\n",
              "      <th>native_country_Columbia</th>\n",
              "      <th>native_country_Cuba</th>\n",
              "      <th>native_country_Dominican-Republic</th>\n",
              "      <th>native_country_Ecuador</th>\n",
              "      <th>native_country_El-Salvador</th>\n",
              "      <th>native_country_England</th>\n",
              "      <th>native_country_France</th>\n",
              "      <th>native_country_Germany</th>\n",
              "      <th>native_country_Greece</th>\n",
              "      <th>native_country_Guatemala</th>\n",
              "      <th>native_country_Haiti</th>\n",
              "      <th>native_country_Holand-Netherlands</th>\n",
              "      <th>native_country_Honduras</th>\n",
              "      <th>native_country_Hong</th>\n",
              "      <th>native_country_Hungary</th>\n",
              "      <th>native_country_India</th>\n",
              "      <th>native_country_Iran</th>\n",
              "      <th>native_country_Ireland</th>\n",
              "      <th>native_country_Italy</th>\n",
              "      <th>native_country_Jamaica</th>\n",
              "      <th>native_country_Japan</th>\n",
              "      <th>native_country_Laos</th>\n",
              "      <th>native_country_Mexico</th>\n",
              "      <th>native_country_Nicaragua</th>\n",
              "      <th>native_country_Outlying-US(Guam-USVI-etc)</th>\n",
              "      <th>native_country_Peru</th>\n",
              "      <th>native_country_Philippines</th>\n",
              "      <th>native_country_Poland</th>\n",
              "      <th>native_country_Portugal</th>\n",
              "      <th>native_country_Puerto-Rico</th>\n",
              "      <th>native_country_Scotland</th>\n",
              "      <th>native_country_South</th>\n",
              "      <th>native_country_Taiwan</th>\n",
              "      <th>native_country_Thailand</th>\n",
              "      <th>native_country_Trinadad&amp;Tobago</th>\n",
              "      <th>native_country_United-States</th>\n",
              "      <th>native_country_Vietnam</th>\n",
              "      <th>native_country_Yugoslavia</th>\n",
              "    </tr>\n",
              "  </thead>\n",
              "  <tbody>\n",
              "    <tr>\n",
              "      <th>0</th>\n",
              "      <td>50.0</td>\n",
              "      <td>5</td>\n",
              "      <td>13.0</td>\n",
              "      <td>2</td>\n",
              "      <td>3</td>\n",
              "      <td>0</td>\n",
              "      <td>4</td>\n",
              "      <td>0.0</td>\n",
              "      <td>0.0</td>\n",
              "      <td>13.0</td>\n",
              "      <td>0</td>\n",
              "      <td>1</td>\n",
              "      <td>0</td>\n",
              "      <td>0</td>\n",
              "      <td>0</td>\n",
              "      <td>0</td>\n",
              "      <td>0</td>\n",
              "      <td>0</td>\n",
              "      <td>0</td>\n",
              "      <td>0</td>\n",
              "      <td>0</td>\n",
              "      <td>0</td>\n",
              "      <td>0</td>\n",
              "      <td>0</td>\n",
              "      <td>0</td>\n",
              "      <td>0</td>\n",
              "      <td>0</td>\n",
              "      <td>0</td>\n",
              "      <td>0</td>\n",
              "      <td>0</td>\n",
              "      <td>0</td>\n",
              "      <td>0</td>\n",
              "      <td>0</td>\n",
              "      <td>0</td>\n",
              "      <td>0</td>\n",
              "      <td>0</td>\n",
              "      <td>0</td>\n",
              "      <td>0</td>\n",
              "      <td>0</td>\n",
              "      <td>0</td>\n",
              "      <td>0</td>\n",
              "      <td>0</td>\n",
              "      <td>0</td>\n",
              "      <td>0</td>\n",
              "      <td>0</td>\n",
              "      <td>0</td>\n",
              "      <td>0</td>\n",
              "      <td>0</td>\n",
              "      <td>0</td>\n",
              "      <td>1</td>\n",
              "      <td>0</td>\n",
              "      <td>0</td>\n",
              "    </tr>\n",
              "    <tr>\n",
              "      <th>1</th>\n",
              "      <td>38.0</td>\n",
              "      <td>3</td>\n",
              "      <td>9.0</td>\n",
              "      <td>0</td>\n",
              "      <td>5</td>\n",
              "      <td>1</td>\n",
              "      <td>4</td>\n",
              "      <td>0.0</td>\n",
              "      <td>0.0</td>\n",
              "      <td>40.0</td>\n",
              "      <td>0</td>\n",
              "      <td>1</td>\n",
              "      <td>0</td>\n",
              "      <td>0</td>\n",
              "      <td>0</td>\n",
              "      <td>0</td>\n",
              "      <td>0</td>\n",
              "      <td>0</td>\n",
              "      <td>0</td>\n",
              "      <td>0</td>\n",
              "      <td>0</td>\n",
              "      <td>0</td>\n",
              "      <td>0</td>\n",
              "      <td>0</td>\n",
              "      <td>0</td>\n",
              "      <td>0</td>\n",
              "      <td>0</td>\n",
              "      <td>0</td>\n",
              "      <td>0</td>\n",
              "      <td>0</td>\n",
              "      <td>0</td>\n",
              "      <td>0</td>\n",
              "      <td>0</td>\n",
              "      <td>0</td>\n",
              "      <td>0</td>\n",
              "      <td>0</td>\n",
              "      <td>0</td>\n",
              "      <td>0</td>\n",
              "      <td>0</td>\n",
              "      <td>0</td>\n",
              "      <td>0</td>\n",
              "      <td>0</td>\n",
              "      <td>0</td>\n",
              "      <td>0</td>\n",
              "      <td>0</td>\n",
              "      <td>0</td>\n",
              "      <td>0</td>\n",
              "      <td>0</td>\n",
              "      <td>0</td>\n",
              "      <td>1</td>\n",
              "      <td>0</td>\n",
              "      <td>0</td>\n",
              "    </tr>\n",
              "    <tr>\n",
              "      <th>2</th>\n",
              "      <td>53.0</td>\n",
              "      <td>3</td>\n",
              "      <td>7.0</td>\n",
              "      <td>2</td>\n",
              "      <td>5</td>\n",
              "      <td>0</td>\n",
              "      <td>2</td>\n",
              "      <td>0.0</td>\n",
              "      <td>0.0</td>\n",
              "      <td>40.0</td>\n",
              "      <td>0</td>\n",
              "      <td>1</td>\n",
              "      <td>0</td>\n",
              "      <td>0</td>\n",
              "      <td>0</td>\n",
              "      <td>0</td>\n",
              "      <td>0</td>\n",
              "      <td>0</td>\n",
              "      <td>0</td>\n",
              "      <td>0</td>\n",
              "      <td>0</td>\n",
              "      <td>0</td>\n",
              "      <td>0</td>\n",
              "      <td>0</td>\n",
              "      <td>0</td>\n",
              "      <td>0</td>\n",
              "      <td>0</td>\n",
              "      <td>0</td>\n",
              "      <td>0</td>\n",
              "      <td>0</td>\n",
              "      <td>0</td>\n",
              "      <td>0</td>\n",
              "      <td>0</td>\n",
              "      <td>0</td>\n",
              "      <td>0</td>\n",
              "      <td>0</td>\n",
              "      <td>0</td>\n",
              "      <td>0</td>\n",
              "      <td>0</td>\n",
              "      <td>0</td>\n",
              "      <td>0</td>\n",
              "      <td>0</td>\n",
              "      <td>0</td>\n",
              "      <td>0</td>\n",
              "      <td>0</td>\n",
              "      <td>0</td>\n",
              "      <td>0</td>\n",
              "      <td>0</td>\n",
              "      <td>0</td>\n",
              "      <td>1</td>\n",
              "      <td>0</td>\n",
              "      <td>0</td>\n",
              "    </tr>\n",
              "    <tr>\n",
              "      <th>3</th>\n",
              "      <td>28.0</td>\n",
              "      <td>3</td>\n",
              "      <td>13.0</td>\n",
              "      <td>2</td>\n",
              "      <td>9</td>\n",
              "      <td>5</td>\n",
              "      <td>2</td>\n",
              "      <td>0.0</td>\n",
              "      <td>0.0</td>\n",
              "      <td>40.0</td>\n",
              "      <td>0</td>\n",
              "      <td>0</td>\n",
              "      <td>0</td>\n",
              "      <td>0</td>\n",
              "      <td>0</td>\n",
              "      <td>1</td>\n",
              "      <td>0</td>\n",
              "      <td>0</td>\n",
              "      <td>0</td>\n",
              "      <td>0</td>\n",
              "      <td>0</td>\n",
              "      <td>0</td>\n",
              "      <td>0</td>\n",
              "      <td>0</td>\n",
              "      <td>0</td>\n",
              "      <td>0</td>\n",
              "      <td>0</td>\n",
              "      <td>0</td>\n",
              "      <td>0</td>\n",
              "      <td>0</td>\n",
              "      <td>0</td>\n",
              "      <td>0</td>\n",
              "      <td>0</td>\n",
              "      <td>0</td>\n",
              "      <td>0</td>\n",
              "      <td>0</td>\n",
              "      <td>0</td>\n",
              "      <td>0</td>\n",
              "      <td>0</td>\n",
              "      <td>0</td>\n",
              "      <td>0</td>\n",
              "      <td>0</td>\n",
              "      <td>0</td>\n",
              "      <td>0</td>\n",
              "      <td>0</td>\n",
              "      <td>0</td>\n",
              "      <td>0</td>\n",
              "      <td>0</td>\n",
              "      <td>0</td>\n",
              "      <td>0</td>\n",
              "      <td>0</td>\n",
              "      <td>0</td>\n",
              "    </tr>\n",
              "    <tr>\n",
              "      <th>4</th>\n",
              "      <td>37.0</td>\n",
              "      <td>3</td>\n",
              "      <td>14.0</td>\n",
              "      <td>2</td>\n",
              "      <td>3</td>\n",
              "      <td>5</td>\n",
              "      <td>4</td>\n",
              "      <td>0.0</td>\n",
              "      <td>0.0</td>\n",
              "      <td>40.0</td>\n",
              "      <td>0</td>\n",
              "      <td>1</td>\n",
              "      <td>0</td>\n",
              "      <td>0</td>\n",
              "      <td>0</td>\n",
              "      <td>0</td>\n",
              "      <td>0</td>\n",
              "      <td>0</td>\n",
              "      <td>0</td>\n",
              "      <td>0</td>\n",
              "      <td>0</td>\n",
              "      <td>0</td>\n",
              "      <td>0</td>\n",
              "      <td>0</td>\n",
              "      <td>0</td>\n",
              "      <td>0</td>\n",
              "      <td>0</td>\n",
              "      <td>0</td>\n",
              "      <td>0</td>\n",
              "      <td>0</td>\n",
              "      <td>0</td>\n",
              "      <td>0</td>\n",
              "      <td>0</td>\n",
              "      <td>0</td>\n",
              "      <td>0</td>\n",
              "      <td>0</td>\n",
              "      <td>0</td>\n",
              "      <td>0</td>\n",
              "      <td>0</td>\n",
              "      <td>0</td>\n",
              "      <td>0</td>\n",
              "      <td>0</td>\n",
              "      <td>0</td>\n",
              "      <td>0</td>\n",
              "      <td>0</td>\n",
              "      <td>0</td>\n",
              "      <td>0</td>\n",
              "      <td>0</td>\n",
              "      <td>0</td>\n",
              "      <td>1</td>\n",
              "      <td>0</td>\n",
              "      <td>0</td>\n",
              "    </tr>\n",
              "  </tbody>\n",
              "</table>\n",
              "</div>"
            ],
            "text/plain": [
              "    age  workclass  ...  native_country_Vietnam  native_country_Yugoslavia\n",
              "0  50.0          5  ...                       0                          0\n",
              "1  38.0          3  ...                       0                          0\n",
              "2  53.0          3  ...                       0                          0\n",
              "3  28.0          3  ...                       0                          0\n",
              "4  37.0          3  ...                       0                          0\n",
              "\n",
              "[5 rows x 52 columns]"
            ]
          },
          "metadata": {},
          "execution_count": 126
        }
      ]
    },
    {
      "cell_type": "code",
      "metadata": {
        "id": "OjkWMsIoqitH"
      },
      "source": [
        "target= one_hot_encoded_data['class'] # assigning separate varible to desired output column"
      ],
      "execution_count": null,
      "outputs": []
    },
    {
      "cell_type": "code",
      "metadata": {
        "id": "xp3cxG66qkTA"
      },
      "source": [
        "one_hot_encoded_data.drop(['class'], axis = 1, inplace = True) # removing output column from input dataset"
      ],
      "execution_count": null,
      "outputs": []
    },
    {
      "cell_type": "code",
      "metadata": {
        "colab": {
          "base_uri": "https://localhost:8080/"
        },
        "id": "W_UENQlZupGs",
        "outputId": "e22ca185-0057-4ccc-dda6-6d551c6b7e5e"
      },
      "source": [
        "one_hot_encoded_data.shape"
      ],
      "execution_count": null,
      "outputs": [
        {
          "output_type": "execute_result",
          "data": {
            "text/plain": [
              "(32560, 51)"
            ]
          },
          "metadata": {},
          "execution_count": 129
        }
      ]
    },
    {
      "cell_type": "code",
      "metadata": {
        "colab": {
          "base_uri": "https://localhost:8080/",
          "height": 338
        },
        "id": "EpyhZ0HBqns_",
        "outputId": "b5725588-1655-4ca0-c49f-99fb1eec5234"
      },
      "source": [
        "one_hot_encoded_data.describe() # describing facts about input dataset columns"
      ],
      "execution_count": null,
      "outputs": [
        {
          "output_type": "execute_result",
          "data": {
            "text/html": [
              "<div>\n",
              "<style scoped>\n",
              "    .dataframe tbody tr th:only-of-type {\n",
              "        vertical-align: middle;\n",
              "    }\n",
              "\n",
              "    .dataframe tbody tr th {\n",
              "        vertical-align: top;\n",
              "    }\n",
              "\n",
              "    .dataframe thead th {\n",
              "        text-align: right;\n",
              "    }\n",
              "</style>\n",
              "<table border=\"1\" class=\"dataframe\">\n",
              "  <thead>\n",
              "    <tr style=\"text-align: right;\">\n",
              "      <th></th>\n",
              "      <th>age</th>\n",
              "      <th>workclass</th>\n",
              "      <th>education_num</th>\n",
              "      <th>marital_status</th>\n",
              "      <th>occupation</th>\n",
              "      <th>relationship</th>\n",
              "      <th>race</th>\n",
              "      <th>capital_gain</th>\n",
              "      <th>capital_loss</th>\n",
              "      <th>hours_per_week</th>\n",
              "      <th>sex_Male</th>\n",
              "      <th>native_country_Canada</th>\n",
              "      <th>native_country_China</th>\n",
              "      <th>native_country_Columbia</th>\n",
              "      <th>native_country_Cuba</th>\n",
              "      <th>native_country_Dominican-Republic</th>\n",
              "      <th>native_country_Ecuador</th>\n",
              "      <th>native_country_El-Salvador</th>\n",
              "      <th>native_country_England</th>\n",
              "      <th>native_country_France</th>\n",
              "      <th>native_country_Germany</th>\n",
              "      <th>native_country_Greece</th>\n",
              "      <th>native_country_Guatemala</th>\n",
              "      <th>native_country_Haiti</th>\n",
              "      <th>native_country_Holand-Netherlands</th>\n",
              "      <th>native_country_Honduras</th>\n",
              "      <th>native_country_Hong</th>\n",
              "      <th>native_country_Hungary</th>\n",
              "      <th>native_country_India</th>\n",
              "      <th>native_country_Iran</th>\n",
              "      <th>native_country_Ireland</th>\n",
              "      <th>native_country_Italy</th>\n",
              "      <th>native_country_Jamaica</th>\n",
              "      <th>native_country_Japan</th>\n",
              "      <th>native_country_Laos</th>\n",
              "      <th>native_country_Mexico</th>\n",
              "      <th>native_country_Nicaragua</th>\n",
              "      <th>native_country_Outlying-US(Guam-USVI-etc)</th>\n",
              "      <th>native_country_Peru</th>\n",
              "      <th>native_country_Philippines</th>\n",
              "      <th>native_country_Poland</th>\n",
              "      <th>native_country_Portugal</th>\n",
              "      <th>native_country_Puerto-Rico</th>\n",
              "      <th>native_country_Scotland</th>\n",
              "      <th>native_country_South</th>\n",
              "      <th>native_country_Taiwan</th>\n",
              "      <th>native_country_Thailand</th>\n",
              "      <th>native_country_Trinadad&amp;Tobago</th>\n",
              "      <th>native_country_United-States</th>\n",
              "      <th>native_country_Vietnam</th>\n",
              "      <th>native_country_Yugoslavia</th>\n",
              "    </tr>\n",
              "  </thead>\n",
              "  <tbody>\n",
              "    <tr>\n",
              "      <th>count</th>\n",
              "      <td>32560.000000</td>\n",
              "      <td>32560.000000</td>\n",
              "      <td>32560.000000</td>\n",
              "      <td>32560.000000</td>\n",
              "      <td>32560.000000</td>\n",
              "      <td>32560.000000</td>\n",
              "      <td>32560.000000</td>\n",
              "      <td>32560.000000</td>\n",
              "      <td>32560.000000</td>\n",
              "      <td>32560.000000</td>\n",
              "      <td>32560.000000</td>\n",
              "      <td>32560.000000</td>\n",
              "      <td>32560.000000</td>\n",
              "      <td>32560.000000</td>\n",
              "      <td>32560.000000</td>\n",
              "      <td>32560.000000</td>\n",
              "      <td>32560.000000</td>\n",
              "      <td>32560.000000</td>\n",
              "      <td>32560.000000</td>\n",
              "      <td>32560.000000</td>\n",
              "      <td>32560.000000</td>\n",
              "      <td>32560.000000</td>\n",
              "      <td>32560.000000</td>\n",
              "      <td>32560.000000</td>\n",
              "      <td>32560.000000</td>\n",
              "      <td>32560.000000</td>\n",
              "      <td>32560.000000</td>\n",
              "      <td>32560.000000</td>\n",
              "      <td>32560.000000</td>\n",
              "      <td>32560.000000</td>\n",
              "      <td>32560.000000</td>\n",
              "      <td>32560.000000</td>\n",
              "      <td>32560.000000</td>\n",
              "      <td>32560.000000</td>\n",
              "      <td>32560.000000</td>\n",
              "      <td>32560.000000</td>\n",
              "      <td>32560.000000</td>\n",
              "      <td>32560.000000</td>\n",
              "      <td>32560.000000</td>\n",
              "      <td>32560.000000</td>\n",
              "      <td>32560.000000</td>\n",
              "      <td>32560.000000</td>\n",
              "      <td>32560.000000</td>\n",
              "      <td>32560.000000</td>\n",
              "      <td>32560.000000</td>\n",
              "      <td>32560.000000</td>\n",
              "      <td>32560.000000</td>\n",
              "      <td>32560.000000</td>\n",
              "      <td>32560.000000</td>\n",
              "      <td>32560.000000</td>\n",
              "      <td>32560.000000</td>\n",
              "    </tr>\n",
              "    <tr>\n",
              "      <th>mean</th>\n",
              "      <td>38.581025</td>\n",
              "      <td>3.094625</td>\n",
              "      <td>10.080569</td>\n",
              "      <td>2.611087</td>\n",
              "      <td>6.139865</td>\n",
              "      <td>1.445639</td>\n",
              "      <td>3.666063</td>\n",
              "      <td>1077.780679</td>\n",
              "      <td>87.309193</td>\n",
              "      <td>40.437264</td>\n",
              "      <td>0.669287</td>\n",
              "      <td>0.003716</td>\n",
              "      <td>0.002303</td>\n",
              "      <td>0.001812</td>\n",
              "      <td>0.002918</td>\n",
              "      <td>0.002150</td>\n",
              "      <td>0.000860</td>\n",
              "      <td>0.003256</td>\n",
              "      <td>0.002764</td>\n",
              "      <td>0.000891</td>\n",
              "      <td>0.004208</td>\n",
              "      <td>0.000891</td>\n",
              "      <td>0.001966</td>\n",
              "      <td>0.001351</td>\n",
              "      <td>0.000031</td>\n",
              "      <td>0.000399</td>\n",
              "      <td>0.000614</td>\n",
              "      <td>0.000399</td>\n",
              "      <td>0.003041</td>\n",
              "      <td>0.001321</td>\n",
              "      <td>0.000737</td>\n",
              "      <td>0.002242</td>\n",
              "      <td>0.002488</td>\n",
              "      <td>0.001904</td>\n",
              "      <td>0.000553</td>\n",
              "      <td>0.019748</td>\n",
              "      <td>0.001044</td>\n",
              "      <td>0.000430</td>\n",
              "      <td>0.000952</td>\n",
              "      <td>0.006081</td>\n",
              "      <td>0.001843</td>\n",
              "      <td>0.001136</td>\n",
              "      <td>0.003501</td>\n",
              "      <td>0.000369</td>\n",
              "      <td>0.002457</td>\n",
              "      <td>0.001566</td>\n",
              "      <td>0.000553</td>\n",
              "      <td>0.000584</td>\n",
              "      <td>0.913821</td>\n",
              "      <td>0.002027</td>\n",
              "      <td>0.000491</td>\n",
              "    </tr>\n",
              "    <tr>\n",
              "      <th>std</th>\n",
              "      <td>13.640352</td>\n",
              "      <td>1.106696</td>\n",
              "      <td>2.572644</td>\n",
              "      <td>1.505645</td>\n",
              "      <td>3.972096</td>\n",
              "      <td>1.606635</td>\n",
              "      <td>0.848594</td>\n",
              "      <td>7385.390923</td>\n",
              "      <td>402.965826</td>\n",
              "      <td>12.347497</td>\n",
              "      <td>0.470477</td>\n",
              "      <td>0.060848</td>\n",
              "      <td>0.047940</td>\n",
              "      <td>0.042530</td>\n",
              "      <td>0.053938</td>\n",
              "      <td>0.046318</td>\n",
              "      <td>0.029313</td>\n",
              "      <td>0.056965</td>\n",
              "      <td>0.052503</td>\n",
              "      <td>0.029831</td>\n",
              "      <td>0.064731</td>\n",
              "      <td>0.029831</td>\n",
              "      <td>0.044292</td>\n",
              "      <td>0.036736</td>\n",
              "      <td>0.005542</td>\n",
              "      <td>0.019978</td>\n",
              "      <td>0.024777</td>\n",
              "      <td>0.019978</td>\n",
              "      <td>0.055058</td>\n",
              "      <td>0.036317</td>\n",
              "      <td>0.027140</td>\n",
              "      <td>0.047298</td>\n",
              "      <td>0.049816</td>\n",
              "      <td>0.043596</td>\n",
              "      <td>0.023506</td>\n",
              "      <td>0.139136</td>\n",
              "      <td>0.032298</td>\n",
              "      <td>0.020732</td>\n",
              "      <td>0.030842</td>\n",
              "      <td>0.077745</td>\n",
              "      <td>0.042888</td>\n",
              "      <td>0.033691</td>\n",
              "      <td>0.059068</td>\n",
              "      <td>0.019194</td>\n",
              "      <td>0.049508</td>\n",
              "      <td>0.039547</td>\n",
              "      <td>0.023506</td>\n",
              "      <td>0.024150</td>\n",
              "      <td>0.280633</td>\n",
              "      <td>0.044978</td>\n",
              "      <td>0.022162</td>\n",
              "    </tr>\n",
              "    <tr>\n",
              "      <th>min</th>\n",
              "      <td>17.000000</td>\n",
              "      <td>0.000000</td>\n",
              "      <td>1.000000</td>\n",
              "      <td>0.000000</td>\n",
              "      <td>0.000000</td>\n",
              "      <td>0.000000</td>\n",
              "      <td>0.000000</td>\n",
              "      <td>0.000000</td>\n",
              "      <td>0.000000</td>\n",
              "      <td>1.000000</td>\n",
              "      <td>0.000000</td>\n",
              "      <td>0.000000</td>\n",
              "      <td>0.000000</td>\n",
              "      <td>0.000000</td>\n",
              "      <td>0.000000</td>\n",
              "      <td>0.000000</td>\n",
              "      <td>0.000000</td>\n",
              "      <td>0.000000</td>\n",
              "      <td>0.000000</td>\n",
              "      <td>0.000000</td>\n",
              "      <td>0.000000</td>\n",
              "      <td>0.000000</td>\n",
              "      <td>0.000000</td>\n",
              "      <td>0.000000</td>\n",
              "      <td>0.000000</td>\n",
              "      <td>0.000000</td>\n",
              "      <td>0.000000</td>\n",
              "      <td>0.000000</td>\n",
              "      <td>0.000000</td>\n",
              "      <td>0.000000</td>\n",
              "      <td>0.000000</td>\n",
              "      <td>0.000000</td>\n",
              "      <td>0.000000</td>\n",
              "      <td>0.000000</td>\n",
              "      <td>0.000000</td>\n",
              "      <td>0.000000</td>\n",
              "      <td>0.000000</td>\n",
              "      <td>0.000000</td>\n",
              "      <td>0.000000</td>\n",
              "      <td>0.000000</td>\n",
              "      <td>0.000000</td>\n",
              "      <td>0.000000</td>\n",
              "      <td>0.000000</td>\n",
              "      <td>0.000000</td>\n",
              "      <td>0.000000</td>\n",
              "      <td>0.000000</td>\n",
              "      <td>0.000000</td>\n",
              "      <td>0.000000</td>\n",
              "      <td>0.000000</td>\n",
              "      <td>0.000000</td>\n",
              "      <td>0.000000</td>\n",
              "    </tr>\n",
              "    <tr>\n",
              "      <th>25%</th>\n",
              "      <td>28.000000</td>\n",
              "      <td>3.000000</td>\n",
              "      <td>9.000000</td>\n",
              "      <td>2.000000</td>\n",
              "      <td>3.000000</td>\n",
              "      <td>0.000000</td>\n",
              "      <td>4.000000</td>\n",
              "      <td>0.000000</td>\n",
              "      <td>0.000000</td>\n",
              "      <td>40.000000</td>\n",
              "      <td>0.000000</td>\n",
              "      <td>0.000000</td>\n",
              "      <td>0.000000</td>\n",
              "      <td>0.000000</td>\n",
              "      <td>0.000000</td>\n",
              "      <td>0.000000</td>\n",
              "      <td>0.000000</td>\n",
              "      <td>0.000000</td>\n",
              "      <td>0.000000</td>\n",
              "      <td>0.000000</td>\n",
              "      <td>0.000000</td>\n",
              "      <td>0.000000</td>\n",
              "      <td>0.000000</td>\n",
              "      <td>0.000000</td>\n",
              "      <td>0.000000</td>\n",
              "      <td>0.000000</td>\n",
              "      <td>0.000000</td>\n",
              "      <td>0.000000</td>\n",
              "      <td>0.000000</td>\n",
              "      <td>0.000000</td>\n",
              "      <td>0.000000</td>\n",
              "      <td>0.000000</td>\n",
              "      <td>0.000000</td>\n",
              "      <td>0.000000</td>\n",
              "      <td>0.000000</td>\n",
              "      <td>0.000000</td>\n",
              "      <td>0.000000</td>\n",
              "      <td>0.000000</td>\n",
              "      <td>0.000000</td>\n",
              "      <td>0.000000</td>\n",
              "      <td>0.000000</td>\n",
              "      <td>0.000000</td>\n",
              "      <td>0.000000</td>\n",
              "      <td>0.000000</td>\n",
              "      <td>0.000000</td>\n",
              "      <td>0.000000</td>\n",
              "      <td>0.000000</td>\n",
              "      <td>0.000000</td>\n",
              "      <td>1.000000</td>\n",
              "      <td>0.000000</td>\n",
              "      <td>0.000000</td>\n",
              "    </tr>\n",
              "    <tr>\n",
              "      <th>50%</th>\n",
              "      <td>37.000000</td>\n",
              "      <td>3.000000</td>\n",
              "      <td>10.000000</td>\n",
              "      <td>2.000000</td>\n",
              "      <td>6.000000</td>\n",
              "      <td>1.000000</td>\n",
              "      <td>4.000000</td>\n",
              "      <td>0.000000</td>\n",
              "      <td>0.000000</td>\n",
              "      <td>40.000000</td>\n",
              "      <td>1.000000</td>\n",
              "      <td>0.000000</td>\n",
              "      <td>0.000000</td>\n",
              "      <td>0.000000</td>\n",
              "      <td>0.000000</td>\n",
              "      <td>0.000000</td>\n",
              "      <td>0.000000</td>\n",
              "      <td>0.000000</td>\n",
              "      <td>0.000000</td>\n",
              "      <td>0.000000</td>\n",
              "      <td>0.000000</td>\n",
              "      <td>0.000000</td>\n",
              "      <td>0.000000</td>\n",
              "      <td>0.000000</td>\n",
              "      <td>0.000000</td>\n",
              "      <td>0.000000</td>\n",
              "      <td>0.000000</td>\n",
              "      <td>0.000000</td>\n",
              "      <td>0.000000</td>\n",
              "      <td>0.000000</td>\n",
              "      <td>0.000000</td>\n",
              "      <td>0.000000</td>\n",
              "      <td>0.000000</td>\n",
              "      <td>0.000000</td>\n",
              "      <td>0.000000</td>\n",
              "      <td>0.000000</td>\n",
              "      <td>0.000000</td>\n",
              "      <td>0.000000</td>\n",
              "      <td>0.000000</td>\n",
              "      <td>0.000000</td>\n",
              "      <td>0.000000</td>\n",
              "      <td>0.000000</td>\n",
              "      <td>0.000000</td>\n",
              "      <td>0.000000</td>\n",
              "      <td>0.000000</td>\n",
              "      <td>0.000000</td>\n",
              "      <td>0.000000</td>\n",
              "      <td>0.000000</td>\n",
              "      <td>1.000000</td>\n",
              "      <td>0.000000</td>\n",
              "      <td>0.000000</td>\n",
              "    </tr>\n",
              "    <tr>\n",
              "      <th>75%</th>\n",
              "      <td>48.000000</td>\n",
              "      <td>3.000000</td>\n",
              "      <td>12.000000</td>\n",
              "      <td>4.000000</td>\n",
              "      <td>9.000000</td>\n",
              "      <td>3.000000</td>\n",
              "      <td>4.000000</td>\n",
              "      <td>0.000000</td>\n",
              "      <td>0.000000</td>\n",
              "      <td>45.000000</td>\n",
              "      <td>1.000000</td>\n",
              "      <td>0.000000</td>\n",
              "      <td>0.000000</td>\n",
              "      <td>0.000000</td>\n",
              "      <td>0.000000</td>\n",
              "      <td>0.000000</td>\n",
              "      <td>0.000000</td>\n",
              "      <td>0.000000</td>\n",
              "      <td>0.000000</td>\n",
              "      <td>0.000000</td>\n",
              "      <td>0.000000</td>\n",
              "      <td>0.000000</td>\n",
              "      <td>0.000000</td>\n",
              "      <td>0.000000</td>\n",
              "      <td>0.000000</td>\n",
              "      <td>0.000000</td>\n",
              "      <td>0.000000</td>\n",
              "      <td>0.000000</td>\n",
              "      <td>0.000000</td>\n",
              "      <td>0.000000</td>\n",
              "      <td>0.000000</td>\n",
              "      <td>0.000000</td>\n",
              "      <td>0.000000</td>\n",
              "      <td>0.000000</td>\n",
              "      <td>0.000000</td>\n",
              "      <td>0.000000</td>\n",
              "      <td>0.000000</td>\n",
              "      <td>0.000000</td>\n",
              "      <td>0.000000</td>\n",
              "      <td>0.000000</td>\n",
              "      <td>0.000000</td>\n",
              "      <td>0.000000</td>\n",
              "      <td>0.000000</td>\n",
              "      <td>0.000000</td>\n",
              "      <td>0.000000</td>\n",
              "      <td>0.000000</td>\n",
              "      <td>0.000000</td>\n",
              "      <td>0.000000</td>\n",
              "      <td>1.000000</td>\n",
              "      <td>0.000000</td>\n",
              "      <td>0.000000</td>\n",
              "    </tr>\n",
              "    <tr>\n",
              "      <th>max</th>\n",
              "      <td>90.000000</td>\n",
              "      <td>7.000000</td>\n",
              "      <td>16.000000</td>\n",
              "      <td>6.000000</td>\n",
              "      <td>13.000000</td>\n",
              "      <td>5.000000</td>\n",
              "      <td>4.000000</td>\n",
              "      <td>99999.000000</td>\n",
              "      <td>4356.000000</td>\n",
              "      <td>99.000000</td>\n",
              "      <td>1.000000</td>\n",
              "      <td>1.000000</td>\n",
              "      <td>1.000000</td>\n",
              "      <td>1.000000</td>\n",
              "      <td>1.000000</td>\n",
              "      <td>1.000000</td>\n",
              "      <td>1.000000</td>\n",
              "      <td>1.000000</td>\n",
              "      <td>1.000000</td>\n",
              "      <td>1.000000</td>\n",
              "      <td>1.000000</td>\n",
              "      <td>1.000000</td>\n",
              "      <td>1.000000</td>\n",
              "      <td>1.000000</td>\n",
              "      <td>1.000000</td>\n",
              "      <td>1.000000</td>\n",
              "      <td>1.000000</td>\n",
              "      <td>1.000000</td>\n",
              "      <td>1.000000</td>\n",
              "      <td>1.000000</td>\n",
              "      <td>1.000000</td>\n",
              "      <td>1.000000</td>\n",
              "      <td>1.000000</td>\n",
              "      <td>1.000000</td>\n",
              "      <td>1.000000</td>\n",
              "      <td>1.000000</td>\n",
              "      <td>1.000000</td>\n",
              "      <td>1.000000</td>\n",
              "      <td>1.000000</td>\n",
              "      <td>1.000000</td>\n",
              "      <td>1.000000</td>\n",
              "      <td>1.000000</td>\n",
              "      <td>1.000000</td>\n",
              "      <td>1.000000</td>\n",
              "      <td>1.000000</td>\n",
              "      <td>1.000000</td>\n",
              "      <td>1.000000</td>\n",
              "      <td>1.000000</td>\n",
              "      <td>1.000000</td>\n",
              "      <td>1.000000</td>\n",
              "      <td>1.000000</td>\n",
              "    </tr>\n",
              "  </tbody>\n",
              "</table>\n",
              "</div>"
            ],
            "text/plain": [
              "                age  ...  native_country_Yugoslavia\n",
              "count  32560.000000  ...               32560.000000\n",
              "mean      38.581025  ...                   0.000491\n",
              "std       13.640352  ...                   0.022162\n",
              "min       17.000000  ...                   0.000000\n",
              "25%       28.000000  ...                   0.000000\n",
              "50%       37.000000  ...                   0.000000\n",
              "75%       48.000000  ...                   0.000000\n",
              "max       90.000000  ...                   1.000000\n",
              "\n",
              "[8 rows x 51 columns]"
            ]
          },
          "metadata": {},
          "execution_count": 130
        }
      ]
    },
    {
      "cell_type": "code",
      "metadata": {
        "colab": {
          "base_uri": "https://localhost:8080/"
        },
        "id": "4dFInbS6qpZ5",
        "outputId": "92e5161c-80ff-4ae6-8ad8-81c50ce77395"
      },
      "source": [
        "target # Output varible column"
      ],
      "execution_count": null,
      "outputs": [
        {
          "output_type": "execute_result",
          "data": {
            "text/plain": [
              "0        0\n",
              "1        0\n",
              "2        0\n",
              "3        0\n",
              "4        0\n",
              "        ..\n",
              "32555    0\n",
              "32556    1\n",
              "32557    0\n",
              "32558    0\n",
              "32559    1\n",
              "Name: class, Length: 32560, dtype: int64"
            ]
          },
          "metadata": {},
          "execution_count": 131
        }
      ]
    },
    {
      "cell_type": "markdown",
      "metadata": {
        "id": "a6sSohqUracE"
      },
      "source": [
        "# Decision tree classification Model building without PCA"
      ]
    },
    {
      "cell_type": "code",
      "metadata": {
        "id": "QV1eZ69ZrjQa"
      },
      "source": [
        "#Sl4pliting data into traing and testing\n",
        "from sklearn.model_selection import train_test_split  \n",
        "x_train, x_test, y_train, y_test= train_test_split(one_hot_encoded_data,target, test_size= 0.30, random_state=42) "
      ],
      "execution_count": null,
      "outputs": []
    },
    {
      "cell_type": "code",
      "metadata": {
        "id": "7iHAikjfroHY"
      },
      "source": [
        "# Scaling data into same range\n",
        "from sklearn.preprocessing import StandardScaler    \n",
        "st_x= StandardScaler()  \n",
        "x_train= st_x.fit_transform(x_train)    \n",
        "x_test= st_x.transform(x_test)  "
      ],
      "execution_count": null,
      "outputs": []
    },
    {
      "cell_type": "code",
      "metadata": {
        "colab": {
          "base_uri": "https://localhost:8080/"
        },
        "id": "qwxBufAcrvcw",
        "outputId": "608779d2-312d-49f0-d73b-b1b6c798c592"
      },
      "source": [
        "#Fitting Decision Tree classifier to the training set  \n",
        "from sklearn.tree import DecisionTreeClassifier\n",
        "classifier= DecisionTreeClassifier(criterion='entropy', max_depth=7)  \n",
        "classifier.fit(x_train, y_train)"
      ],
      "execution_count": null,
      "outputs": [
        {
          "output_type": "execute_result",
          "data": {
            "text/plain": [
              "DecisionTreeClassifier(ccp_alpha=0.0, class_weight=None, criterion='entropy',\n",
              "                       max_depth=7, max_features=None, max_leaf_nodes=None,\n",
              "                       min_impurity_decrease=0.0, min_impurity_split=None,\n",
              "                       min_samples_leaf=1, min_samples_split=2,\n",
              "                       min_weight_fraction_leaf=0.0, presort='deprecated',\n",
              "                       random_state=None, splitter='best')"
            ]
          },
          "metadata": {},
          "execution_count": 134
        }
      ]
    },
    {
      "cell_type": "code",
      "metadata": {
        "id": "i7mbu9w3ryeO"
      },
      "source": [
        "y_pred= classifier.predict(x_test)"
      ],
      "execution_count": null,
      "outputs": []
    },
    {
      "cell_type": "code",
      "metadata": {
        "colab": {
          "base_uri": "https://localhost:8080/"
        },
        "id": "rP7eRyQ8r1gy",
        "outputId": "9c3ae365-d579-4367-e4ad-de077da0618b"
      },
      "source": [
        "# Creating Classification Report\n",
        "from sklearn.metrics import confusion_matrix\n",
        "from sklearn.metrics import classification_report\n",
        "cm= confusion_matrix(y_test, y_pred)\n",
        "print(cm)\n",
        "print(classification_report(y_test,y_pred))"
      ],
      "execution_count": null,
      "outputs": [
        {
          "output_type": "stream",
          "name": "stdout",
          "text": [
            "[[7045  351]\n",
            " [1090 1282]]\n",
            "              precision    recall  f1-score   support\n",
            "\n",
            "           0       0.87      0.95      0.91      7396\n",
            "           1       0.79      0.54      0.64      2372\n",
            "\n",
            "    accuracy                           0.85      9768\n",
            "   macro avg       0.83      0.75      0.77      9768\n",
            "weighted avg       0.85      0.85      0.84      9768\n",
            "\n"
          ]
        }
      ]
    },
    {
      "cell_type": "code",
      "metadata": {
        "colab": {
          "base_uri": "https://localhost:8080/"
        },
        "id": "3zTWUBZDr4T3",
        "outputId": "755515d1-db70-4121-c010-da0f724e6fa3"
      },
      "source": [
        "classifier.score(x_test,y_test)"
      ],
      "execution_count": null,
      "outputs": [
        {
          "output_type": "execute_result",
          "data": {
            "text/plain": [
              "0.8524774774774775"
            ]
          },
          "metadata": {},
          "execution_count": 137
        }
      ]
    },
    {
      "cell_type": "markdown",
      "metadata": {
        "id": "lNcr_UDGuafK"
      },
      "source": [
        "# Principle Component Analysis"
      ]
    },
    {
      "cell_type": "code",
      "metadata": {
        "colab": {
          "base_uri": "https://localhost:8080/"
        },
        "id": "S_YDWDE9uE1Z",
        "outputId": "7e6eff80-f5b5-45a9-fa7f-735cace0a1c7"
      },
      "source": [
        "from sklearn.decomposition import PCA\n",
        "pca=PCA(n_components=5)\n",
        "pca.fit(one_hot_encoded_data)"
      ],
      "execution_count": null,
      "outputs": [
        {
          "output_type": "execute_result",
          "data": {
            "text/plain": [
              "PCA(copy=True, iterated_power='auto', n_components=5, random_state=None,\n",
              "    svd_solver='auto', tol=0.0, whiten=False)"
            ]
          },
          "metadata": {},
          "execution_count": 138
        }
      ]
    },
    {
      "cell_type": "code",
      "metadata": {
        "colab": {
          "base_uri": "https://localhost:8080/"
        },
        "id": "hpTHJkNBue6n",
        "outputId": "8c34101e-5407-4de2-d189-d9cb5f8dffeb"
      },
      "source": [
        "#Transforming data with PCA\n",
        "x_pca=pca.transform(one_hot_encoded_data)\n",
        "print('Principal comp', pca.components_)"
      ],
      "execution_count": null,
      "outputs": [
        {
          "output_type": "stream",
          "name": "stdout",
          "text": [
            "Principal comp [[ 1.43504947e-04  4.71684417e-06  4.27111863e-05 -8.83634485e-06\n",
            "   9.67220875e-06 -1.25980636e-05  1.27482192e-06  9.99998486e-01\n",
            "  -1.72838995e-03  1.31071397e-04  3.08545451e-06  2.90441569e-08\n",
            "  -3.00463425e-08 -2.98027743e-08 -3.80083432e-08  1.57028971e-08\n",
            "  -8.67199288e-09 -3.00447134e-08 -1.07970230e-08 -8.66444514e-09\n",
            "  -1.47089503e-08  3.35995990e-09 -3.05185835e-08 -2.67025992e-08\n",
            "  -6.08952184e-10 -7.89033343e-09 -1.21380432e-08 -2.64431640e-09\n",
            "   1.42903956e-07  2.34091905e-08 -1.01803677e-08 -1.91622186e-08\n",
            "  -2.74800947e-08  5.12678089e-08 -9.29798469e-09 -2.64543858e-07\n",
            "  -1.68090987e-08 -8.49527679e-09 -1.77817696e-08 -6.62903974e-09\n",
            "  -1.32914170e-08 -1.76936671e-08 -4.88205331e-08 -4.36597004e-09\n",
            "   3.56692361e-08  3.07033101e-08 -1.09224992e-08 -1.15334204e-08\n",
            "   4.28442919e-07 -1.51324136e-08 -6.58034073e-09]\n",
            " [ 2.04200171e-03  9.92530495e-06  5.35807248e-04 -1.32733589e-04\n",
            "   1.01240173e-04 -2.50791336e-04  4.04945545e-05  1.72783352e-03\n",
            "   9.99994713e-01  1.74256468e-03  5.55027674e-05  9.93561089e-07\n",
            "   1.29198351e-06 -6.89304737e-07 -3.32436476e-07 -8.14401616e-07\n",
            "  -4.67919034e-07 -1.14560761e-06 -8.37257722e-08 -4.84358669e-07\n",
            "  -2.50504996e-07  1.14488432e-06 -7.74086126e-07 -1.32320203e-07\n",
            "   4.00589086e-07  1.40585217e-07  3.66144179e-08  9.94084024e-08\n",
            "   9.29075378e-07  3.35293370e-07 -4.53791347e-08 -8.43301150e-07\n",
            "  -1.35507475e-06 -3.19687963e-07 -3.02980377e-07 -7.77187508e-06\n",
            "   7.69215925e-08 -2.36353745e-07 -1.72982153e-07  4.32725258e-07\n",
            "  -6.11161636e-07 -6.21875411e-07 -7.20807000e-07 -2.00889624e-07\n",
            "   1.26454677e-06  6.69645533e-07 -3.03887569e-07  4.79333987e-07\n",
            "   1.03025223e-05  7.41585489e-09 -2.68285824e-07]\n",
            " [ 9.60900889e-01  3.75385652e-03  1.05875697e-02 -3.29869535e-02\n",
            "  -1.16426811e-03 -3.62212337e-02  2.26289184e-03 -1.79044060e-04\n",
            "  -2.45565468e-03  2.72228192e-01  4.69058531e-03  7.20594431e-05\n",
            "   3.68553455e-05  9.57256468e-06  1.04645651e-04 -2.87741317e-06\n",
            "  -8.20802587e-06 -8.87304379e-05  4.30327603e-05  9.39142362e-06\n",
            "   1.96108532e-05  3.72242613e-05 -6.30654920e-05 -7.87269079e-06\n",
            "  -1.88703604e-06 -1.21418584e-05 -1.45907914e-05  1.92554285e-05\n",
            "  -1.01277972e-05  1.08242282e-05 -5.25806183e-06  9.67538537e-05\n",
            "  -4.09341482e-05  4.04561135e-06 -1.00239312e-05 -5.13607080e-04\n",
            "  -3.25898065e-05  2.05673040e-06 -2.22116775e-05  1.85385165e-05\n",
            "   3.91826682e-05  1.43958618e-05  2.81579028e-05  4.50083776e-06\n",
            "   1.97842131e-06 -4.45706947e-05 -5.16942006e-06  5.03784357e-06\n",
            "   3.59188710e-04 -5.42388281e-05  4.52523831e-06]\n",
            " [-2.73852095e-01  2.47376264e-03  2.73074948e-02 -1.27083860e-02\n",
            "  -5.11326526e-03 -2.10176626e-02  2.20655718e-03 -9.01598897e-05\n",
            "  -1.13688548e-03  9.61021100e-01  7.48550091e-03 -2.96576433e-05\n",
            "  -5.65198051e-05 -1.83703906e-05 -6.14612758e-05  3.07040363e-05\n",
            "  -9.87238979e-07 -5.00405775e-05  1.28214096e-05  2.73154391e-05\n",
            "   1.19755117e-05  7.93507714e-06  7.34102496e-06 -2.96236776e-05\n",
            "  -1.99356684e-07 -7.29897853e-06  7.80683708e-06 -2.03924392e-05\n",
            "   1.96529597e-05  2.76430284e-05  1.27672816e-05 -1.41421563e-05\n",
            "  -1.37619223e-05  4.06723707e-05  4.05114874e-06  1.84234288e-04\n",
            "  -1.91518595e-05  4.38846157e-06 -2.48333074e-05 -4.27578441e-05\n",
            "  -3.93106722e-05  7.80023894e-06 -5.38062094e-05  1.05283798e-06\n",
            "   2.88148719e-05 -3.07354771e-06  2.23725916e-05 -1.49914781e-05\n",
            "   5.00577920e-05 -2.45962349e-05  1.35333883e-05]\n",
            " [ 6.94263742e-04 -2.16410259e-03 -7.56432876e-02 -1.33412021e-02\n",
            "  -9.96827545e-01  1.95417310e-02  6.94367111e-04  1.35339455e-05\n",
            "   1.48117945e-04 -2.65348675e-03 -6.16927573e-03 -1.20988220e-04\n",
            "  -1.56072917e-04  5.11846053e-05 -2.09471343e-06 -2.38479289e-05\n",
            "  -3.55934615e-05 -2.48891261e-05 -2.92185281e-05 -7.85751082e-05\n",
            "  -6.08245728e-06  7.43750583e-05  5.02919064e-05 -1.30194568e-05\n",
            "   8.51779134e-07  6.96801903e-06  8.93268666e-06  4.59835447e-07\n",
            "  -2.57586870e-04 -6.20125160e-05  4.19574795e-05  1.17154485e-04\n",
            "   8.53793496e-05  1.36511252e-04  6.62257995e-05  9.36282278e-04\n",
            "   2.77625805e-05  2.72272831e-06 -9.23827042e-05  2.12503941e-06\n",
            "  -2.74394375e-05  1.52613954e-04  1.56506416e-04  2.94826309e-06\n",
            "  -1.31718030e-04 -1.10429222e-04  1.26522668e-05  1.48206621e-05\n",
            "  -1.05461029e-03  2.15330682e-04  4.20809632e-05]]\n"
          ]
        }
      ]
    },
    {
      "cell_type": "code",
      "metadata": {
        "colab": {
          "base_uri": "https://localhost:8080/",
          "height": 290
        },
        "id": "quTvhUfJukJs",
        "outputId": "419797a9-b8ca-4246-ad5c-6fb098e07aac"
      },
      "source": [
        "#Visualizing PCA components variance\n",
        "plt.bar(range(pca.n_components_), pca.explained_variance_)\n",
        "plt.xlabel('PCA feature')\n",
        "plt.ylabel('variance')\n",
        "plt.show()"
      ],
      "execution_count": null,
      "outputs": [
        {
          "output_type": "display_data",
          "data": {
            "image/png": "[encoded data removed]",
            "text/plain": [
              "<Figure size 432x288 with 1 Axes>"
            ]
          },
          "metadata": {
            "needs_background": "light"
          }
        }
      ]
    },
    {
      "cell_type": "code",
      "metadata": {
        "colab": {
          "base_uri": "https://localhost:8080/"
        },
        "id": "bzvAkiDmure2",
        "outputId": "8e6ec8fa-a566-4023-cc49-d8bf3e65e258"
      },
      "source": [
        "x_pca.shape #SHpae of Data after PCA"
      ],
      "execution_count": null,
      "outputs": [
        {
          "output_type": "execute_result",
          "data": {
            "text/plain": [
              "(32560, 5)"
            ]
          },
          "metadata": {},
          "execution_count": 141
        }
      ]
    },
    {
      "cell_type": "code",
      "metadata": {
        "colab": {
          "base_uri": "https://localhost:8080/",
          "height": 406
        },
        "id": "aqZ-WNepuuEg",
        "outputId": "36e79a2a-a821-4a2b-9f12-80412ef972cd"
      },
      "source": [
        "#Visualizing PCA Components\n",
        "plt.figure(figsize=(8,6))\n",
        "plt.scatter(x_pca[:,0],x_pca[:,1],c=dataset['class'])\n",
        "plt.xlabel('First principle component')\n",
        "plt.ylabel('Second principle component')"
      ],
      "execution_count": null,
      "outputs": [
        {
          "output_type": "execute_result",
          "data": {
            "text/plain": [
              "Text(0, 0.5, 'Second principle component')"
            ]
          },
          "metadata": {},
          "execution_count": 142
        },
        {
          "output_type": "display_data",
          "data": {
            "image/png": "[encoded data removed]",
            "text/plain": [
              "<Figure size 576x432 with 1 Axes>"
            ]
          },
          "metadata": {
            "needs_background": "light"
          }
        }
      ]
    },
    {
      "cell_type": "markdown",
      "metadata": {
        "id": "euJOcebvuwOC"
      },
      "source": [
        "# Decision tree classifier model building with PCA"
      ]
    },
    {
      "cell_type": "code",
      "metadata": {
        "id": "XESkyadKuwxr"
      },
      "source": [
        "#Spliting training data and Testing data\n",
        "from sklearn.model_selection import train_test_split  \n",
        "x_train, x_test, y_train, y_test= train_test_split(x_pca,target, test_size= 0.30, random_state=42)  "
      ],
      "execution_count": null,
      "outputs": []
    },
    {
      "cell_type": "code",
      "metadata": {
        "colab": {
          "base_uri": "https://localhost:8080/"
        },
        "id": "XDYtalcEuzGT",
        "outputId": "f48d607b-c8f9-4c56-96d8-1b757f84adc9"
      },
      "source": [
        "#Fitting Decision Tree classifier to the training set  \n",
        "from sklearn.tree import DecisionTreeClassifier\n",
        "classifier= DecisionTreeClassifier()  \n",
        "classifier.fit(x_train, y_train)"
      ],
      "execution_count": null,
      "outputs": [
        {
          "output_type": "execute_result",
          "data": {
            "text/plain": [
              "DecisionTreeClassifier(ccp_alpha=0.0, class_weight=None, criterion='gini',\n",
              "                       max_depth=None, max_features=None, max_leaf_nodes=None,\n",
              "                       min_impurity_decrease=0.0, min_impurity_split=None,\n",
              "                       min_samples_leaf=1, min_samples_split=2,\n",
              "                       min_weight_fraction_leaf=0.0, presort='deprecated',\n",
              "                       random_state=None, splitter='best')"
            ]
          },
          "metadata": {},
          "execution_count": 144
        }
      ]
    },
    {
      "cell_type": "code",
      "metadata": {
        "colab": {
          "base_uri": "https://localhost:8080/"
        },
        "id": "6QraNsJru0za",
        "outputId": "2d722f65-a46e-40de-d48f-03a88a7619de"
      },
      "source": [
        "#Creating classification Report\n",
        "from sklearn.metrics import confusion_matrix\n",
        "from sklearn.metrics import classification_report\n",
        "cm= confusion_matrix(y_test, y_pred)\n",
        "print(cm)\n",
        "print(classification_report(y_test,y_pred))"
      ],
      "execution_count": null,
      "outputs": [
        {
          "output_type": "stream",
          "name": "stdout",
          "text": [
            "[[7045  351]\n",
            " [1090 1282]]\n",
            "              precision    recall  f1-score   support\n",
            "\n",
            "           0       0.87      0.95      0.91      7396\n",
            "           1       0.79      0.54      0.64      2372\n",
            "\n",
            "    accuracy                           0.85      9768\n",
            "   macro avg       0.83      0.75      0.77      9768\n",
            "weighted avg       0.85      0.85      0.84      9768\n",
            "\n"
          ]
        }
      ]
    }
  ]
}